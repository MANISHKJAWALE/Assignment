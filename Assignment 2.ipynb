{
 "cells": [
  {
   "cell_type": "code",
   "execution_count": 9,
   "id": "1287ff8b",
   "metadata": {},
   "outputs": [
    {
     "name": "stdout",
     "output_type": "stream",
     "text": [
      "1\n",
      "2\n",
      "3\n",
      "4\n",
      "5\n",
      "6\n",
      "7\n",
      "8\n",
      "9\n",
      "10\n"
     ]
    }
   ],
   "source": [
    "# 1)Write a Python for loop that prints the numbers from 1 to 10.\n",
    "\n",
    "for i in range(1, 11):\n",
    "    print(i)"
   ]
  },
  {
   "cell_type": "code",
   "execution_count": 3,
   "id": "6a9a105b",
   "metadata": {},
   "outputs": [
    {
     "name": "stdout",
     "output_type": "stream",
     "text": [
      "I like apple\n",
      "I like banana\n",
      "I like cherry\n"
     ]
    }
   ],
   "source": [
    "#2)Create a list of fruits (e.g., [\"apple\", \"banana\", \"cherry\"]) and write a for loop to print each fruit in the list.\n",
    "\n",
    "fruits = [\"apple\",\"banana\",\"cherry\"]\n",
    "\n",
    "for x in fruits:\n",
    "    print(\"I like\",x)\n"
   ]
  },
  {
   "cell_type": "code",
   "execution_count": 10,
   "id": "da1e86bc",
   "metadata": {},
   "outputs": [
    {
     "name": "stdout",
     "output_type": "stream",
     "text": [
      "The sum of even numbers from 1 to 50 is: 650\n"
     ]
    }
   ],
   "source": [
    "# 3)Write a Python program that calculates the sum of all even numbers from 1 to 50 using a for loop.\n",
    "\n",
    "sum_of_evens = 0\n",
    "\n",
    "for x in range(1, 51):\n",
    "    if x%2==0:\n",
    "        sum_of_evens += x\n",
    "\n",
    "print(\"The sum of even numbers from 1 to 50 is:\", sum_of_evens)"
   ]
  },
  {
   "cell_type": "code",
   "execution_count": 12,
   "id": "65233396",
   "metadata": {},
   "outputs": [
    {
     "name": "stdout",
     "output_type": "stream",
     "text": [
      "The largest number in the list is: 89\n"
     ]
    }
   ],
   "source": [
    "#4)Create a list of integers, and using a for loop, find and print the largest number in the list.\n",
    "\n",
    "numbers = [12, 45, 6, 78, 23, 56, 89, 34]\n",
    "largest_number = numbers[0] \n",
    "for a in numbers:\n",
    "     if a > largest_number:\n",
    "        largest_number = a\n",
    "        \n",
    "print(\"The largest number in the list is:\", largest_number)        "
   ]
  },
  {
   "cell_type": "code",
   "execution_count": 13,
   "id": "a6b09d32",
   "metadata": {},
   "outputs": [
    {
     "name": "stdout",
     "output_type": "stream",
     "text": [
      "Prime numbers between 1 and 100:\n",
      "2\n",
      "3\n",
      "5\n",
      "7\n",
      "11\n",
      "13\n",
      "17\n",
      "19\n",
      "23\n",
      "29\n",
      "31\n",
      "37\n",
      "41\n",
      "43\n",
      "47\n",
      "53\n",
      "59\n",
      "61\n",
      "67\n",
      "71\n",
      "73\n",
      "79\n",
      "83\n",
      "89\n",
      "97\n"
     ]
    }
   ],
   "source": [
    "# 5)Write a Python program that uses a for loop to find and print all the prime numbers between 1 and 100. A prime number is a positive integer greater than 1 that has no positive integer divisors other than 1 and itself.\n",
    "\n",
    "def is_prime(number):\n",
    "    if number <= 1:\n",
    "        return False\n",
    "    elif number == 2:\n",
    "        return True\n",
    "    elif number % 2 == 0:\n",
    "        return False\n",
    "    else:\n",
    "        \n",
    "        for i in range(3, int(number**0.5) + 1, 2):\n",
    "            if number % i == 0:\n",
    "                return False\n",
    "        return True\n",
    "    \n",
    "print(\"Prime numbers between 1 and 100:\")\n",
    "for num in range(1, 101):\n",
    "    if is_prime(num):\n",
    "        print(num)"
   ]
  },
  {
   "cell_type": "code",
   "execution_count": 4,
   "id": "54ecbf58",
   "metadata": {},
   "outputs": [],
   "source": [
    "#6)Write a Python program that takes a list of dictionaries, where each dictionary represents a person with keys \"name\" and \"age.\" Find and print the average age of all the people in the list.\n",
    "\n",
    "def calculate_average_age(people):\n",
    "    total_age = 0\n",
    "    num_people = len(people)\n",
    "\n",
    "    for person in people:\n",
    "        total_age += person[\"age\"]\n",
    "\n",
    "    if num_people > 0:\n",
    "        average_age = total_age / num_people\n",
    "        return average_age\n",
    "    else:\n",
    "        return 0\n",
    "    \n",
    "    people_list = [\n",
    "    {\"name\": \"Alice\", \"age\": 30},\n",
    "    {\"name\": \"Bob\", \"age\": 25},\n",
    "    {\"name\": \"Charlie\", \"age\": 35},]\n",
    "        \n",
    "        \n",
    "    average_age = calculate_average_age(people_list)\n",
    "    print(\"Average Age:\", average_age)"
   ]
  },
  {
   "cell_type": "code",
   "execution_count": 5,
   "id": "734e0356",
   "metadata": {},
   "outputs": [
    {
     "name": "stdout",
     "output_type": "stream",
     "text": [
      "Updated quantity of item2 to 30.\n",
      "item4 not found in the inventory.\n",
      "Updated Inventory:\n",
      "Item 1 - Quantity: 10, Price: $5.99\n",
      "Item 2 - Quantity: 30, Price: $9.99\n",
      "Item 3 - Quantity: 15, Price: $14.99\n"
     ]
    }
   ],
   "source": [
    "#7)Create a dictionary representing a simple inventory system for a store. Implement a function that allows you to update the quantity of items in the inventory by specifying the item name and the new quantity.\n",
    "\n",
    "inventory = { \"item1\": {\"name\": \"Item 1\", \"quantity\": 10, \"price\": 5.99},\n",
    "    \"item2\": {\"name\": \"Item 2\", \"quantity\": 20, \"price\": 9.99},\n",
    "    \"item3\": {\"name\": \"Item 3\", \"quantity\": 15, \"price\": 14.99},}\n",
    "\n",
    "def update_inventory(item_name, new_quantity):\n",
    "    if item_name in inventory:\n",
    "        inventory[item_name][\"quantity\"] = new_quantity\n",
    "        print(f\"Updated quantity of {item_name} to {new_quantity}.\")\n",
    "    else:\n",
    "        print(f\"{item_name} not found in the inventory.\")\n",
    "update_inventory(\"item2\", 30)\n",
    "update_inventory(\"item4\", 5)\n",
    "\n",
    "print(\"Updated Inventory:\")\n",
    "for item_key, item_info in inventory.items():\n",
    "    print(f\"{item_info['name']} - Quantity: {item_info['quantity']}, Price: ${item_info['price']:.2f}\")\n",
    "\n",
    "\n",
    "\n"
   ]
  },
  {
   "cell_type": "code",
   "execution_count": null,
   "id": "bc015e2a",
   "metadata": {},
   "outputs": [],
   "source": []
  },
  {
   "cell_type": "code",
   "execution_count": null,
   "id": "e6cec085",
   "metadata": {},
   "outputs": [],
   "source": []
  },
  {
   "cell_type": "code",
   "execution_count": null,
   "id": "1dfa83bd",
   "metadata": {},
   "outputs": [],
   "source": []
  },
  {
   "cell_type": "code",
   "execution_count": null,
   "id": "96d6cd51",
   "metadata": {},
   "outputs": [],
   "source": []
  },
  {
   "cell_type": "code",
   "execution_count": null,
   "id": "d1c7804c",
   "metadata": {},
   "outputs": [],
   "source": []
  },
  {
   "cell_type": "code",
   "execution_count": null,
   "id": "9b348e54",
   "metadata": {},
   "outputs": [],
   "source": []
  }
 ],
 "metadata": {
  "kernelspec": {
   "display_name": "Python 3 (ipykernel)",
   "language": "python",
   "name": "python3"
  },
  "language_info": {
   "codemirror_mode": {
    "name": "ipython",
    "version": 3
   },
   "file_extension": ".py",
   "mimetype": "text/x-python",
   "name": "python",
   "nbconvert_exporter": "python",
   "pygments_lexer": "ipython3",
   "version": "3.11.5"
  }
 },
 "nbformat": 4,
 "nbformat_minor": 5
}
