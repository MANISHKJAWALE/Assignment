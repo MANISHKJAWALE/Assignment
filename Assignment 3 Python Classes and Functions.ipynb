{
 "cells": [
  {
   "cell_type": "markdown",
   "id": "198cf584",
   "metadata": {},
   "source": [
    "# Part A: Classes in Python"
   ]
  },
  {
   "cell_type": "code",
   "execution_count": 2,
   "id": "9bf57b3d",
   "metadata": {},
   "outputs": [
    {
     "name": "stdout",
     "output_type": "stream",
     "text": [
      "Student Name: Hitesh Zope\n",
      "Student Age: 24\n",
      "Student Grade: A+\n"
     ]
    }
   ],
   "source": [
    "# 1)Class Definition and Object Creation Create a Python class called \"Student\" that has the following attributes: name, age, and grade. Define an initialization method to initialize these attributes when an object of the class is created. Create an instance of the class and set the attributes. Finally, print the attributes of the student object.\n",
    "\n",
    "class Student:\n",
    "    def __init__(self, name, age, grade):\n",
    "        self.name = name\n",
    "        self.age = age\n",
    "        self.grade = grade\n",
    "student1 = Student(\"Hitesh Zope\", 24, \"A+\")\n",
    "print(\"Student Name:\", student1.name)\n",
    "print(\"Student Age:\", student1.age)\n",
    "print(\"Student Grade:\", student1.grade)\n"
   ]
  },
  {
   "cell_type": "code",
   "execution_count": 3,
   "id": "9ab40fb0",
   "metadata": {},
   "outputs": [
    {
     "name": "stdout",
     "output_type": "stream",
     "text": [
      "Student is passing.\n"
     ]
    }
   ],
   "source": [
    "# 2) Methods in a Class Extend the \"Student\" class from the previous question. Add a method called \"is_passing\" that returns True if the student's grade is greater than or equal to 50 and False otherwise. Create an instance of the class and use this method to check if the student is passing. Display the result.\n",
    "\n",
    "class Student:\n",
    "    def __init__(self, name, age, grade):\n",
    "        self.name = name\n",
    "        self.age = age\n",
    "        self.grade = grade\n",
    "\n",
    "    def is_passing(self):\n",
    "        return self.grade >= 50\n",
    "\n",
    "student1 = Student(\"John Doe\", 18, 65)\n",
    "is_passing = student1.is_passing()\n",
    "if is_passing:\n",
    "    print(\"Student is passing.\")\n",
    "else:\n",
    "    print(\"Student is not passing.\")\n"
   ]
  },
  {
   "cell_type": "code",
   "execution_count": 5,
   "id": "becb03f1",
   "metadata": {},
   "outputs": [
    {
     "name": "stdout",
     "output_type": "stream",
     "text": [
      "Student Name: Amol Otari\n",
      "Student Age: 26\n",
      "Student Grade: 85\n",
      "School Name: Orient School\n"
     ]
    }
   ],
   "source": [
    "# 3) Inheritance and Subclasses Create a new class called \"HighSchoolStudent\" that inherits from the \"Student\" class. Add an additional attribute called school_name to the \"HighSchoolStudent\" class. Create an instance of the \"HighSchoolStudent\" class and set both the attributes, including the inherited attributes from the \"Student\" class. Print all the attributes of the high school student.\n",
    "\n",
    "class Student:\n",
    "    def __init__(self, name, age, grade):\n",
    "        self.name = name\n",
    "        self.age = age\n",
    "        self.grade = grade\n",
    "\n",
    "    def is_passing(self):\n",
    "        return self.grade >= 50\n",
    "\n",
    "class HighSchoolStudent(Student):\n",
    "    def __init__(self, name, age, grade, school_name):\n",
    "        super().__init__(name, age, grade)\n",
    "        self.school_name = school_name\n",
    "\n",
    "high_school_student = HighSchoolStudent(\"Amol Otari\", 26, 85, \"Orient School\")\n",
    "\n",
    "print(\"Student Name:\", high_school_student.name)\n",
    "print(\"Student Age:\", high_school_student.age)\n",
    "print(\"Student Grade:\", high_school_student.grade)\n",
    "print(\"School Name:\", high_school_student.school_name)\n",
    "\n"
   ]
  },
  {
   "cell_type": "markdown",
   "id": "03add19c",
   "metadata": {},
   "source": [
    "# Part B: Functions in Python"
   ]
  },
  {
   "cell_type": "code",
   "execution_count": 7,
   "id": "4a571b76",
   "metadata": {},
   "outputs": [
    {
     "name": "stdout",
     "output_type": "stream",
     "text": [
      "Rectangle with length 6 and width 4 has an area of 24 square units.\n",
      "Rectangle with length 8 and width 6 has an area of 48 square units.\n"
     ]
    }
   ],
   "source": [
    "# 4) Function with Parameters Write a Python function called \"calculate_rectangle_area\" that takes two parameters, length and width, and returns the area of a rectangle. Call the function with different sets of values and display the results\n",
    "\n",
    "def calculate_rectangle_area(length, width):\n",
    "    return length * width\n",
    "length1, width1 = 6, 4\n",
    "area1 = calculate_rectangle_area(length1, width1)\n",
    "print(f\"Rectangle with length {length1} and width {width1} has an area of {area1} square units.\")\n",
    "\n",
    "length2, width2 = 8, 6\n",
    "area2 = calculate_rectangle_area(length2, width2)\n",
    "print(f\"Rectangle with length {length2} and width {width2} has an area of {area2} square units.\")\n",
    "\n"
   ]
  },
  {
   "cell_type": "code",
   "execution_count": 8,
   "id": "26bbcd1f",
   "metadata": {},
   "outputs": [
    {
     "name": "stdout",
     "output_type": "stream",
     "text": [
      "Hello, Tiksha!\n",
      "Hi, Manish!\n"
     ]
    }
   ],
   "source": [
    "# 5)Function with Default Parameters Create a Python function called \"greet\" that takes a name as a parameter and a greeting message as an optional parameter with a default value of \"Hello\". The function should return a formatted greeting message. Test the function by calling it with and without the optional parameter and display the results.\n",
    "\n",
    "def greet(name, greeting=\"Hello\"):\n",
    "    return f\"{greeting}, {name}!\"\n",
    "greeting1 = greet(\"Tiksha\")\n",
    "greeting2 = greet(\"Manish\", \"Hi\")\n",
    "print(greeting1)\n",
    "print(greeting2)"
   ]
  },
  {
   "cell_type": "code",
   "execution_count": 10,
   "id": "8aee0f9f",
   "metadata": {},
   "outputs": [
    {
     "name": "stdout",
     "output_type": "stream",
     "text": [
      "Average: 25.0\n"
     ]
    }
   ],
   "source": [
    "# 6) Function with Variable Number of Arguments Write a Python function called \"calculate_average\" that takes a variable number of arguments and calculates the average of those numbers. Use this function to find the average of 5, 10, 15, and 20, and display the result.\n",
    "\n",
    "def calculate_average(*args):\n",
    "    if len(args) == 0:\n",
    "        return 0\n",
    "    return sum(args) / len(args)\n",
    "result = calculate_average(10, 20, 30, 40)\n",
    "print(\"Average:\", result)"
   ]
  },
  {
   "cell_type": "code",
   "execution_count": null,
   "id": "d44b819f",
   "metadata": {},
   "outputs": [],
   "source": []
  },
  {
   "cell_type": "code",
   "execution_count": null,
   "id": "55bc16de",
   "metadata": {},
   "outputs": [],
   "source": []
  },
  {
   "cell_type": "code",
   "execution_count": null,
   "id": "8ca8e6ec",
   "metadata": {},
   "outputs": [],
   "source": []
  },
  {
   "cell_type": "code",
   "execution_count": null,
   "id": "b48ad564",
   "metadata": {},
   "outputs": [],
   "source": []
  },
  {
   "cell_type": "code",
   "execution_count": null,
   "id": "0adf2485",
   "metadata": {},
   "outputs": [],
   "source": []
  },
  {
   "cell_type": "code",
   "execution_count": null,
   "id": "dc90111d",
   "metadata": {},
   "outputs": [],
   "source": []
  },
  {
   "cell_type": "code",
   "execution_count": null,
   "id": "d0d05181",
   "metadata": {},
   "outputs": [],
   "source": []
  },
  {
   "cell_type": "code",
   "execution_count": null,
   "id": "43b79448",
   "metadata": {},
   "outputs": [],
   "source": []
  },
  {
   "cell_type": "code",
   "execution_count": null,
   "id": "1af78905",
   "metadata": {},
   "outputs": [],
   "source": []
  },
  {
   "cell_type": "code",
   "execution_count": null,
   "id": "65c4e4de",
   "metadata": {},
   "outputs": [],
   "source": []
  },
  {
   "cell_type": "code",
   "execution_count": null,
   "id": "ace3069c",
   "metadata": {},
   "outputs": [],
   "source": []
  },
  {
   "cell_type": "code",
   "execution_count": null,
   "id": "39c9d900",
   "metadata": {},
   "outputs": [],
   "source": []
  },
  {
   "cell_type": "markdown",
   "id": "9047267b",
   "metadata": {},
   "source": []
  }
 ],
 "metadata": {
  "kernelspec": {
   "display_name": "Python 3 (ipykernel)",
   "language": "python",
   "name": "python3"
  },
  "language_info": {
   "codemirror_mode": {
    "name": "ipython",
    "version": 3
   },
   "file_extension": ".py",
   "mimetype": "text/x-python",
   "name": "python",
   "nbconvert_exporter": "python",
   "pygments_lexer": "ipython3",
   "version": "3.11.5"
  }
 },
 "nbformat": 4,
 "nbformat_minor": 5
}
