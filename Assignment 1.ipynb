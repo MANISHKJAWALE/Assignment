{
 "cells": [
  {
   "cell_type": "code",
   "execution_count": 5,
   "id": "104ae1ea",
   "metadata": {},
   "outputs": [
    {
     "name": "stdout",
     "output_type": "stream",
     "text": [
      "Enter the first number: 5\n",
      "Enter the second number: 8\n",
      "the larger number is : num2\n"
     ]
    }
   ],
   "source": [
    "#1) Write a python program that takes two numbers as input and prints the larger number.\n",
    "\n",
    "\n",
    "num1 = float(input(\"Enter the first number: \"))\n",
    "num2 = float(input(\"Enter the second number: \"))\n",
    "if num1>num2 :\n",
    "   print(\"the larger number is: num1 \")\n",
    "elif num2>num1 :\n",
    "    print (\"the larger number is : num2\")\n",
    "else:\n",
    "    print(\"Both numbers are equal\")"
   ]
  },
  {
   "cell_type": "code",
   "execution_count": 3,
   "id": "1e832877",
   "metadata": {},
   "outputs": [
    {
     "name": "stdout",
     "output_type": "stream",
     "text": [
      "Enter the first number: 5\n",
      "Enter the second number: 9\n",
      "the larger number is : num2\n"
     ]
    }
   ],
   "source": []
  },
  {
   "cell_type": "code",
   "execution_count": 1,
   "id": "6bc57c66",
   "metadata": {},
   "outputs": [
    {
     "name": "stdout",
     "output_type": "stream",
     "text": [
      "enter a month(1-12): 8\n"
     ]
    }
   ],
   "source": [
    "#2) create a python program that asks the user for a month (1-12) and then prints the correspoonding season(\"spring,\"\"summer,\"\"fall,\"or \"winter\")\n",
    "\n",
    "month = int(input(\"enter a month(1-12): \"))\n",
    "\n",
    "if 1>= month <=3 :\n",
    "    season = \"winter\"\n",
    "elif 4>= month <=6 :\n",
    "    season = \"summer\"\n",
    "elif 7>= month <=9 :\n",
    "    season = \"fall\"\n",
    "elif 10>= month <=12 :\n",
    "    season = \"winter\"\n",
    "else :\n",
    "    season =\"invalid\"\n",
    "\n",
    "    "
   ]
  },
  {
   "cell_type": "code",
   "execution_count": 11,
   "id": "99dcc188",
   "metadata": {},
   "outputs": [
    {
     "name": "stdout",
     "output_type": "stream",
     "text": [
      "Enter the year: 2022\n",
      "year is not a leap year.\n"
     ]
    }
   ],
   "source": [
    "#3)whrite a python program that derermines whether a given year is a leap or not. use the leap year rules mentioned earlier.\n",
    "\n",
    "year = int(input(\"Enter the year: \"))\n",
    "if (year%4==0 and year%100!=0) or (year%400==0):\n",
    "    print(\"year is a leap year.\")\n",
    "else:\n",
    "    print(\"year is not a leap year.\")\n",
    "\n",
    "\n"
   ]
  },
  {
   "cell_type": "code",
   "execution_count": 15,
   "id": "9d6fe29f",
   "metadata": {},
   "outputs": [
    {
     "name": "stdout",
     "output_type": "stream",
     "text": [
      "Enter an integer: 5\n",
      "num is positive:\n"
     ]
    }
   ],
   "source": [
    "# 4) create a program that takes an integer as input and checks if it's positive,negative, or zero: print an appropriate message.\n",
    "\n",
    "num = float(input(\"Enter an integer: \"))\n",
    "if num > 0:\n",
    "    print(\"num is positive:\")\n",
    "elif num < 0:\n",
    "    print(\"num is negative:\")\n",
    "else:\n",
    "    print(\"The number is zero:\")"
   ]
  },
  {
   "cell_type": "code",
   "execution_count": 17,
   "id": "1d8472d1",
   "metadata": {},
   "outputs": [
    {
     "name": "stdout",
     "output_type": "stream",
     "text": [
      "enter the age: 8\n",
      "enter the gender(M/F): M\n",
      "yor are a young boy\n"
     ]
    }
   ],
   "source": [
    "#5) write a python program that asks the user for their age and gender based on their age and gender print a message like \"you are a young man\" or \"yor are an old woman\"\n",
    "\n",
    "age =int(input(\"enter the age: \"))\n",
    "gender= input(\"enter the gender(M/F): \").upper()\n",
    "\n",
    "if age<18:\n",
    "    if gender == \"M\":\n",
    "        print(\"yor are a young boy\")\n",
    "    elif gender ==\"F\":\n",
    "        print(\"you are a young girl\")\n",
    "        \n",
    "else:\n",
    "    if gender == \"M\":\n",
    "        print(\"yor are a old boy\")\n",
    "    elif gender ==\"F\":\n",
    "        print(\"you are a old girl\")\n",
    "        \n"
   ]
  },
  {
   "cell_type": "code",
   "execution_count": 18,
   "id": "223504d2",
   "metadata": {},
   "outputs": [
    {
     "name": "stdout",
     "output_type": "stream",
     "text": [
      "Enter the number 1: 25\n",
      "enter the number 2: 12\n",
      "enter the number 3: 65\n",
      "numbers in ascending order are:  [12, 25, 65]\n"
     ]
    }
   ],
   "source": [
    "#8)\n",
    "\n",
    "num1 = int(input(\"Enter the number 1: \"))\n",
    "num2 = int(input(\"enter the number 2: \"))\n",
    "num3 = int(input(\"enter the number 3: \"))\n",
    "\n",
    "sorted_numbers = sorted([num1,num2,num3])\n",
    "print(\"numbers in ascending order are: \", sorted_numbers)"
   ]
  },
  {
   "cell_type": "code",
   "execution_count": 20,
   "id": "2bfe295d",
   "metadata": {},
   "outputs": [
    {
     "name": "stdout",
     "output_type": "stream",
     "text": [
      "Enter the number 1: 56\n",
      "enter the number 2: 12\n",
      "enter the number 3: 78\n",
      "numbers in ascending order are:  [78, 56, 12]\n"
     ]
    }
   ],
   "source": [
    "num1 = int(input(\"Enter the number 1: \"))\n",
    "num2 = int(input(\"enter the number 2: \"))\n",
    "num3 = int(input(\"enter the number 3: \"))\n",
    "\n",
    "sorted_numbers = sorted([num1,num2,num3], reverse=True)\n",
    "print(\"numbers in ascending order are: \", sorted_numbers)"
   ]
  },
  {
   "cell_type": "code",
   "execution_count": 21,
   "id": "15336384",
   "metadata": {},
   "outputs": [
    {
     "name": "stdout",
     "output_type": "stream",
     "text": [
      "enter the year: 1800\n",
      "not a century leap year\n"
     ]
    }
   ],
   "source": [
    "#9)\n",
    "\n",
    "year = int(input(\"enter the year: \"))\n",
    "if year%100==0:\n",
    "    if year%400==0:\n",
    "        print(\"it is a leap year century\")\n",
    "    else:\n",
    "        print(\"not a century leap year\")\n",
    "else:\n",
    "    print(\"not a century year\")\n",
    "\n"
   ]
  },
  {
   "cell_type": "code",
   "execution_count": 23,
   "id": "62b014d4",
   "metadata": {},
   "outputs": [
    {
     "name": "stdout",
     "output_type": "stream",
     "text": [
      "enter the temperature: 25\n",
      "celsius to fahranheit conversion in fahrengeit is :  77.0\n"
     ]
    }
   ],
   "source": [
    "#6)\n",
    "\n",
    "celsius = float(input(\"enter the temperature: \"))\n",
    "fahrenheit = (celsius*9/5)+32\n",
    "print(\"celsius to fahranheit conversion in fahrengeit is : \", fahrenheit)\n",
    "\n"
   ]
  },
  {
   "cell_type": "code",
   "execution_count": null,
   "id": "756d2554",
   "metadata": {},
   "outputs": [],
   "source": [
    "#7)\n",
    "\n",
    "weight = float(input(\"enter the weight in pound: \"))\n",
    "if weight <=2:\n",
    "    shipping _cost = 5.00\n",
    "elif weight<=10:\n",
    "    shipping_cost = 10.00\n",
    "else:\n",
    "    shipping_cost"
   ]
  },
  {
   "cell_type": "code",
   "execution_count": null,
   "id": "c789ff55",
   "metadata": {},
   "outputs": [],
   "source": []
  },
  {
   "cell_type": "code",
   "execution_count": null,
   "id": "8646e37c",
   "metadata": {},
   "outputs": [],
   "source": []
  },
  {
   "cell_type": "code",
   "execution_count": null,
   "id": "2225352a",
   "metadata": {},
   "outputs": [],
   "source": []
  },
  {
   "cell_type": "code",
   "execution_count": null,
   "id": "3c6ac8c9",
   "metadata": {},
   "outputs": [],
   "source": []
  },
  {
   "cell_type": "code",
   "execution_count": null,
   "id": "d7121b5b",
   "metadata": {},
   "outputs": [],
   "source": []
  },
  {
   "cell_type": "code",
   "execution_count": null,
   "id": "bb7ee460",
   "metadata": {},
   "outputs": [],
   "source": []
  },
  {
   "cell_type": "code",
   "execution_count": null,
   "id": "1484b2cb",
   "metadata": {},
   "outputs": [],
   "source": []
  },
  {
   "cell_type": "code",
   "execution_count": null,
   "id": "9a3b7583",
   "metadata": {},
   "outputs": [],
   "source": []
  },
  {
   "cell_type": "code",
   "execution_count": null,
   "id": "b1eef4c9",
   "metadata": {},
   "outputs": [],
   "source": []
  },
  {
   "cell_type": "code",
   "execution_count": null,
   "id": "409a7e68",
   "metadata": {},
   "outputs": [],
   "source": []
  },
  {
   "cell_type": "code",
   "execution_count": null,
   "id": "35772bd4",
   "metadata": {},
   "outputs": [],
   "source": []
  },
  {
   "cell_type": "code",
   "execution_count": null,
   "id": "951323e5",
   "metadata": {},
   "outputs": [],
   "source": []
  },
  {
   "cell_type": "code",
   "execution_count": null,
   "id": "b1545c16",
   "metadata": {},
   "outputs": [],
   "source": []
  },
  {
   "cell_type": "code",
   "execution_count": null,
   "id": "17a03b3f",
   "metadata": {},
   "outputs": [],
   "source": []
  },
  {
   "cell_type": "code",
   "execution_count": null,
   "id": "1a818d10",
   "metadata": {},
   "outputs": [],
   "source": []
  },
  {
   "cell_type": "code",
   "execution_count": null,
   "id": "ae440e35",
   "metadata": {},
   "outputs": [],
   "source": []
  },
  {
   "cell_type": "code",
   "execution_count": null,
   "id": "52453547",
   "metadata": {},
   "outputs": [],
   "source": []
  },
  {
   "cell_type": "code",
   "execution_count": null,
   "id": "c9fc3e35",
   "metadata": {},
   "outputs": [],
   "source": []
  },
  {
   "cell_type": "code",
   "execution_count": null,
   "id": "2c0c487d",
   "metadata": {},
   "outputs": [],
   "source": []
  },
  {
   "cell_type": "code",
   "execution_count": null,
   "id": "2181a25a",
   "metadata": {},
   "outputs": [],
   "source": []
  },
  {
   "cell_type": "code",
   "execution_count": null,
   "id": "2f4bae58",
   "metadata": {},
   "outputs": [],
   "source": []
  }
 ],
 "metadata": {
  "kernelspec": {
   "display_name": "Python 3 (ipykernel)",
   "language": "python",
   "name": "python3"
  },
  "language_info": {
   "codemirror_mode": {
    "name": "ipython",
    "version": 3
   },
   "file_extension": ".py",
   "mimetype": "text/x-python",
   "name": "python",
   "nbconvert_exporter": "python",
   "pygments_lexer": "ipython3",
   "version": "3.11.5"
  }
 },
 "nbformat": 4,
 "nbformat_minor": 5
}
